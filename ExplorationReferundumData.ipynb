{
 "cells": [
  {
   "cell_type": "markdown",
   "id": "c972c6e1",
   "metadata": {},
   "source": [
    "# First notebook dedicated to do basic checks on the referum results :\n",
    "\n",
    "* Did I get the proper charset is used for the town names ? \n",
    "* Any missing values ? Duplicate ?\n",
    "* Overall results over all votes, without more interesting insight"
   ]
  },
  {
   "cell_type": "code",
   "execution_count": 1,
   "id": "65091f87",
   "metadata": {},
   "outputs": [],
   "source": [
    "from data_reader.data_reader import DataReader\n",
    "from data_reader.helpers import locations"
   ]
  },
  {
   "cell_type": "code",
   "execution_count": 2,
   "id": "92a6b4fe",
   "metadata": {},
   "outputs": [
    {
     "name": "stdout",
     "output_type": "stream",
     "text": [
      "36791\n"
     ]
    }
   ],
   "source": [
    "results = DataReader(\n",
    "    path=locations(\"referendum\"),\n",
    "    insee_code=('Code du département','Code de la commune'),\n",
    "    drop_domtom=False\n",
    ").content()\n",
    "total = len(results)\n",
    "print(total)"
   ]
  },
  {
   "cell_type": "code",
   "execution_count": 3,
   "id": "f28b7803",
   "metadata": {},
   "outputs": [
    {
     "data": {
      "text/html": [
       "<div>\n",
       "<style scoped>\n",
       "    .dataframe tbody tr th:only-of-type {\n",
       "        vertical-align: middle;\n",
       "    }\n",
       "\n",
       "    .dataframe tbody tr th {\n",
       "        vertical-align: top;\n",
       "    }\n",
       "\n",
       "    .dataframe thead th {\n",
       "        text-align: right;\n",
       "    }\n",
       "</style>\n",
       "<table border=\"1\" class=\"dataframe\">\n",
       "  <thead>\n",
       "    <tr style=\"text-align: right;\">\n",
       "      <th></th>\n",
       "      <th>Code du département</th>\n",
       "      <th>Libellé du département</th>\n",
       "      <th>Code de la commune</th>\n",
       "      <th>Libellé de la commune</th>\n",
       "      <th>Inscrits</th>\n",
       "      <th>Abstentions</th>\n",
       "      <th>Blancs et nuls</th>\n",
       "      <th>Choix A</th>\n",
       "      <th>Choix B</th>\n",
       "    </tr>\n",
       "    <tr>\n",
       "      <th>insee</th>\n",
       "      <th></th>\n",
       "      <th></th>\n",
       "      <th></th>\n",
       "      <th></th>\n",
       "      <th></th>\n",
       "      <th></th>\n",
       "      <th></th>\n",
       "      <th></th>\n",
       "      <th></th>\n",
       "    </tr>\n",
       "  </thead>\n",
       "  <tbody>\n",
       "    <tr>\n",
       "      <th>01001</th>\n",
       "      <td>01</td>\n",
       "      <td>AIN</td>\n",
       "      <td>001</td>\n",
       "      <td>L'Abergement-Clémenciat</td>\n",
       "      <td>592</td>\n",
       "      <td>84</td>\n",
       "      <td>9</td>\n",
       "      <td>154</td>\n",
       "      <td>345</td>\n",
       "    </tr>\n",
       "    <tr>\n",
       "      <th>01002</th>\n",
       "      <td>01</td>\n",
       "      <td>AIN</td>\n",
       "      <td>002</td>\n",
       "      <td>L'Abergement-de-Varey</td>\n",
       "      <td>215</td>\n",
       "      <td>36</td>\n",
       "      <td>5</td>\n",
       "      <td>66</td>\n",
       "      <td>108</td>\n",
       "    </tr>\n",
       "    <tr>\n",
       "      <th>01004</th>\n",
       "      <td>01</td>\n",
       "      <td>AIN</td>\n",
       "      <td>004</td>\n",
       "      <td>Ambérieu-en-Bugey</td>\n",
       "      <td>8205</td>\n",
       "      <td>1698</td>\n",
       "      <td>126</td>\n",
       "      <td>2717</td>\n",
       "      <td>3664</td>\n",
       "    </tr>\n",
       "    <tr>\n",
       "      <th>01005</th>\n",
       "      <td>01</td>\n",
       "      <td>AIN</td>\n",
       "      <td>005</td>\n",
       "      <td>Ambérieux-en-Dombes</td>\n",
       "      <td>1152</td>\n",
       "      <td>170</td>\n",
       "      <td>18</td>\n",
       "      <td>280</td>\n",
       "      <td>684</td>\n",
       "    </tr>\n",
       "    <tr>\n",
       "      <th>01006</th>\n",
       "      <td>01</td>\n",
       "      <td>AIN</td>\n",
       "      <td>006</td>\n",
       "      <td>Ambléon</td>\n",
       "      <td>105</td>\n",
       "      <td>17</td>\n",
       "      <td>1</td>\n",
       "      <td>35</td>\n",
       "      <td>52</td>\n",
       "    </tr>\n",
       "  </tbody>\n",
       "</table>\n",
       "</div>"
      ],
      "text/plain": [
       "      Code du département Libellé du département Code de la commune  \\\n",
       "insee                                                                 \n",
       "01001                  01                    AIN                001   \n",
       "01002                  01                    AIN                002   \n",
       "01004                  01                    AIN                004   \n",
       "01005                  01                    AIN                005   \n",
       "01006                  01                    AIN                006   \n",
       "\n",
       "         Libellé de la commune  Inscrits  Abstentions  Blancs et nuls  \\\n",
       "insee                                                                   \n",
       "01001  L'Abergement-Clémenciat       592           84               9   \n",
       "01002    L'Abergement-de-Varey       215           36               5   \n",
       "01004        Ambérieu-en-Bugey      8205         1698             126   \n",
       "01005      Ambérieux-en-Dombes      1152          170              18   \n",
       "01006                  Ambléon       105           17               1   \n",
       "\n",
       "       Choix A  Choix B  \n",
       "insee                    \n",
       "01001      154      345  \n",
       "01002       66      108  \n",
       "01004     2717     3664  \n",
       "01005      280      684  \n",
       "01006       35       52  "
      ]
     },
     "execution_count": 3,
     "metadata": {},
     "output_type": "execute_result"
    }
   ],
   "source": [
    "results.head()"
   ]
  },
  {
   "cell_type": "code",
   "execution_count": 4,
   "id": "f12076c0",
   "metadata": {},
   "outputs": [
    {
     "data": {
      "text/html": [
       "<div>\n",
       "<style scoped>\n",
       "    .dataframe tbody tr th:only-of-type {\n",
       "        vertical-align: middle;\n",
       "    }\n",
       "\n",
       "    .dataframe tbody tr th {\n",
       "        vertical-align: top;\n",
       "    }\n",
       "\n",
       "    .dataframe thead th {\n",
       "        text-align: right;\n",
       "    }\n",
       "</style>\n",
       "<table border=\"1\" class=\"dataframe\">\n",
       "  <thead>\n",
       "    <tr style=\"text-align: right;\">\n",
       "      <th></th>\n",
       "      <th>Inscrits</th>\n",
       "      <th>Abstentions</th>\n",
       "      <th>Blancs et nuls</th>\n",
       "      <th>Choix A</th>\n",
       "      <th>Choix B</th>\n",
       "    </tr>\n",
       "  </thead>\n",
       "  <tbody>\n",
       "    <tr>\n",
       "      <th>count</th>\n",
       "      <td>3.679100e+04</td>\n",
       "      <td>36791.000000</td>\n",
       "      <td>36791.000000</td>\n",
       "      <td>36791.000000</td>\n",
       "      <td>36791.000000</td>\n",
       "    </tr>\n",
       "    <tr>\n",
       "      <th>mean</th>\n",
       "      <td>1.251082e+03</td>\n",
       "      <td>256.697100</td>\n",
       "      <td>19.058737</td>\n",
       "      <td>426.723383</td>\n",
       "      <td>548.602348</td>\n",
       "    </tr>\n",
       "    <tr>\n",
       "      <th>std</th>\n",
       "      <td>8.595773e+03</td>\n",
       "      <td>2075.420552</td>\n",
       "      <td>96.750220</td>\n",
       "      <td>3303.009008</td>\n",
       "      <td>3346.575020</td>\n",
       "    </tr>\n",
       "    <tr>\n",
       "      <th>min</th>\n",
       "      <td>6.000000e+00</td>\n",
       "      <td>0.000000</td>\n",
       "      <td>0.000000</td>\n",
       "      <td>0.000000</td>\n",
       "      <td>0.000000</td>\n",
       "    </tr>\n",
       "    <tr>\n",
       "      <th>25%</th>\n",
       "      <td>1.600000e+02</td>\n",
       "      <td>23.000000</td>\n",
       "      <td>2.000000</td>\n",
       "      <td>49.000000</td>\n",
       "      <td>81.000000</td>\n",
       "    </tr>\n",
       "    <tr>\n",
       "      <th>50%</th>\n",
       "      <td>3.370000e+02</td>\n",
       "      <td>49.000000</td>\n",
       "      <td>6.000000</td>\n",
       "      <td>108.000000</td>\n",
       "      <td>169.000000</td>\n",
       "    </tr>\n",
       "    <tr>\n",
       "      <th>75%</th>\n",
       "      <td>8.070000e+02</td>\n",
       "      <td>120.000000</td>\n",
       "      <td>14.000000</td>\n",
       "      <td>268.000000</td>\n",
       "      <td>402.000000</td>\n",
       "    </tr>\n",
       "    <tr>\n",
       "      <th>max</th>\n",
       "      <td>1.253322e+06</td>\n",
       "      <td>248755.000000</td>\n",
       "      <td>12093.000000</td>\n",
       "      <td>506594.000000</td>\n",
       "      <td>485880.000000</td>\n",
       "    </tr>\n",
       "  </tbody>\n",
       "</table>\n",
       "</div>"
      ],
      "text/plain": [
       "           Inscrits    Abstentions  Blancs et nuls        Choix A  \\\n",
       "count  3.679100e+04   36791.000000    36791.000000   36791.000000   \n",
       "mean   1.251082e+03     256.697100       19.058737     426.723383   \n",
       "std    8.595773e+03    2075.420552       96.750220    3303.009008   \n",
       "min    6.000000e+00       0.000000        0.000000       0.000000   \n",
       "25%    1.600000e+02      23.000000        2.000000      49.000000   \n",
       "50%    3.370000e+02      49.000000        6.000000     108.000000   \n",
       "75%    8.070000e+02     120.000000       14.000000     268.000000   \n",
       "max    1.253322e+06  248755.000000    12093.000000  506594.000000   \n",
       "\n",
       "             Choix B  \n",
       "count   36791.000000  \n",
       "mean      548.602348  \n",
       "std      3346.575020  \n",
       "min         0.000000  \n",
       "25%        81.000000  \n",
       "50%       169.000000  \n",
       "75%       402.000000  \n",
       "max    485880.000000  "
      ]
     },
     "execution_count": 4,
     "metadata": {},
     "output_type": "execute_result"
    }
   ],
   "source": [
    "results.describe()"
   ]
  },
  {
   "cell_type": "markdown",
   "id": "3339daa0",
   "metadata": {},
   "source": [
    "Good thing first : the choice of charset (utf-8) is the right one, same for the delimiter.\n",
    "\n",
    "We are dealing with 36791 different towns, and it seems on average they mostly chose 'B' (median at 169). It doesn't mean yet this proposition won, we will see that further down.\n",
    "\n",
    "At a first glance it also seems abstention was around 25%. We will also confirm that later."
   ]
  },
  {
   "cell_type": "code",
   "execution_count": 5,
   "id": "b381d5f5",
   "metadata": {},
   "outputs": [
    {
     "data": {
      "text/plain": [
       "Code du département       0\n",
       "Libellé du département    0\n",
       "Code de la commune        0\n",
       "Libellé de la commune     0\n",
       "Inscrits                  0\n",
       "Abstentions               0\n",
       "Blancs et nuls            0\n",
       "Choix A                   0\n",
       "Choix B                   0\n",
       "dtype: int64"
      ]
     },
     "execution_count": 5,
     "metadata": {},
     "output_type": "execute_result"
    }
   ],
   "source": [
    "results.isnull().sum()"
   ]
  },
  {
   "cell_type": "markdown",
   "id": "cff42442",
   "metadata": {},
   "source": [
    "Also good : there are no missing values, no cleaning needed on that side"
   ]
  },
  {
   "cell_type": "markdown",
   "id": "4bf7d675",
   "metadata": {},
   "source": [
    "## Now check check for duplicates and understand them\n",
    "\n",
    "Remember : as this covers differement departements, it is normal to find duplicates in the most common town names"
   ]
  },
  {
   "cell_type": "code",
   "execution_count": 6,
   "id": "b4bb66f1",
   "metadata": {},
   "outputs": [
    {
     "data": {
      "text/plain": [
       "Index(['Code du département', 'Libellé du département', 'Code de la commune',\n",
       "       'Libellé de la commune', 'Inscrits', 'Abstentions', 'Blancs et nuls',\n",
       "       'Choix A', 'Choix B'],\n",
       "      dtype='object')"
      ]
     },
     "execution_count": 6,
     "metadata": {},
     "output_type": "execute_result"
    }
   ],
   "source": [
    "results.columns"
   ]
  },
  {
   "cell_type": "code",
   "execution_count": 7,
   "id": "27b92f26",
   "metadata": {},
   "outputs": [
    {
     "name": "stdout",
     "output_type": "stream",
     "text": [
      "4170 towns have duplicated names, 11.334293713136365% of the total (36791 towns)\n"
     ]
    }
   ],
   "source": [
    "tmp_libel = results['Libellé de la commune'].value_counts()\n",
    "dupli_libel = sum([(id>1)*id for id in tmp_libel])\n",
    "print(f\"{dupli_libel} towns have duplicated names, {100*dupli_libel/total}% of the total ({total} towns)\")"
   ]
  },
  {
   "cell_type": "code",
   "execution_count": 8,
   "id": "74ee56e6",
   "metadata": {},
   "outputs": [
    {
     "name": "stdout",
     "output_type": "stream",
     "text": [
      "36719 towns have duplicated codes, 99.80429996466528% of the total (36791 towns)\n"
     ]
    }
   ],
   "source": [
    "tmp_code = results['Code de la commune'].value_counts()\n",
    "dupli_code = sum([(id>1)*id for id in tmp_code])\n",
    "print(f\"{dupli_code} towns have duplicated codes, {100*dupli_code/total}% of the total ({total} towns)\")"
   ]
  },
  {
   "cell_type": "markdown",
   "id": "f5d7268f",
   "metadata": {},
   "source": [
    "### The code duplication probably correspond to a re-use of codes in each departement. Let's check this\n",
    "\n",
    "Out of curiosity I'll perform the same check by town names"
   ]
  },
  {
   "cell_type": "code",
   "execution_count": 9,
   "id": "d7c18d30",
   "metadata": {},
   "outputs": [
    {
     "name": "stdout",
     "output_type": "stream",
     "text": [
      "['01' '02' '03' '04' '05' '06' '07' '08' '09' '10' '11' '12' '13' '14'\n",
      " '15' '16' '17' '18' '19' '2A' '2B' '21' '22' '23' '24' '25' '26' '27'\n",
      " '28' '29' '30' '31' '32' '33' '34' '35' '36' '37' '38' '39' '40' '41'\n",
      " '42' '43' '44' '45' '46' '47' '48' '49' '50' '51' '52' '53' '54' '55'\n",
      " '56' '57' '58' '59' '60' '61' '62' '63' '64' '65' '66' '67' '68' '69'\n",
      " '70' '71' '72' '73' '74' '75' '76' '77' '78' '79' '80' '81' '82' '83'\n",
      " '84' '85' '86' '87' '88' '89' '90' '91' '92' '93' '94' '95' 'ZA' 'ZB'\n",
      " 'ZC' 'ZD' 'ZM' 'ZN' 'ZP' 'ZS' 'ZW' 'ZX' 'ZZ']\n"
     ]
    }
   ],
   "source": [
    "dept_codes = results['Code du département'].unique()\n",
    "print(dept_codes)"
   ]
  },
  {
   "cell_type": "code",
   "execution_count": 10,
   "id": "b0da17e6",
   "metadata": {},
   "outputs": [
    {
     "name": "stdout",
     "output_type": "stream",
     "text": [
      "No Code duplicates found once split by dept\n",
      "No Libellé duplicates found once split by dept\n"
     ]
    }
   ],
   "source": [
    "def check_duplication_by_dept(duptype):\n",
    "    for dept in dept_codes:\n",
    "        dept_towns = (results[f\"Code du département\"] == dept)\n",
    "        dept_counts = results[dept_towns][f\"{duptype} de la commune\"].value_counts()\n",
    "    \n",
    "        if any([c>1 for c in dept_counts]):\n",
    "            print(f\"Departement {dept} still has {duptype} duplicates\")\n",
    "            break\n",
    "    else:\n",
    "        print(f\"No {duptype} duplicates found once split by dept\")\n",
    "        \n",
    "check_duplication_by_dept(\"Code\")\n",
    "check_duplication_by_dept(\"Libellé\")"
   ]
  },
  {
   "cell_type": "code",
   "execution_count": 11,
   "id": "cde4578c",
   "metadata": {},
   "outputs": [
    {
     "data": {
      "text/html": [
       "<div>\n",
       "<style scoped>\n",
       "    .dataframe tbody tr th:only-of-type {\n",
       "        vertical-align: middle;\n",
       "    }\n",
       "\n",
       "    .dataframe tbody tr th {\n",
       "        vertical-align: top;\n",
       "    }\n",
       "\n",
       "    .dataframe thead th {\n",
       "        text-align: right;\n",
       "    }\n",
       "</style>\n",
       "<table border=\"1\" class=\"dataframe\">\n",
       "  <thead>\n",
       "    <tr style=\"text-align: right;\">\n",
       "      <th></th>\n",
       "      <th>Code du département</th>\n",
       "      <th>Libellé du département</th>\n",
       "      <th>Code de la commune</th>\n",
       "      <th>Libellé de la commune</th>\n",
       "      <th>Inscrits</th>\n",
       "      <th>Abstentions</th>\n",
       "      <th>Blancs et nuls</th>\n",
       "      <th>Choix A</th>\n",
       "      <th>Choix B</th>\n",
       "    </tr>\n",
       "    <tr>\n",
       "      <th>insee</th>\n",
       "      <th></th>\n",
       "      <th></th>\n",
       "      <th></th>\n",
       "      <th></th>\n",
       "      <th></th>\n",
       "      <th></th>\n",
       "      <th></th>\n",
       "      <th></th>\n",
       "      <th></th>\n",
       "    </tr>\n",
       "  </thead>\n",
       "  <tbody>\n",
       "    <tr>\n",
       "      <th>ZA101</th>\n",
       "      <td>ZA</td>\n",
       "      <td>GUADELOUPE</td>\n",
       "      <td>101</td>\n",
       "      <td>Les Abymes</td>\n",
       "      <td>34547</td>\n",
       "      <td>15393</td>\n",
       "      <td>1603</td>\n",
       "      <td>12100</td>\n",
       "      <td>5451</td>\n",
       "    </tr>\n",
       "    <tr>\n",
       "      <th>ZA102</th>\n",
       "      <td>ZA</td>\n",
       "      <td>GUADELOUPE</td>\n",
       "      <td>102</td>\n",
       "      <td>Anse-Bertrand</td>\n",
       "      <td>4832</td>\n",
       "      <td>2890</td>\n",
       "      <td>93</td>\n",
       "      <td>1225</td>\n",
       "      <td>624</td>\n",
       "    </tr>\n",
       "    <tr>\n",
       "      <th>ZA103</th>\n",
       "      <td>ZA</td>\n",
       "      <td>GUADELOUPE</td>\n",
       "      <td>103</td>\n",
       "      <td>Baie-Mahault</td>\n",
       "      <td>19599</td>\n",
       "      <td>7881</td>\n",
       "      <td>825</td>\n",
       "      <td>6849</td>\n",
       "      <td>4044</td>\n",
       "    </tr>\n",
       "    <tr>\n",
       "      <th>ZA104</th>\n",
       "      <td>ZA</td>\n",
       "      <td>GUADELOUPE</td>\n",
       "      <td>104</td>\n",
       "      <td>Baillif</td>\n",
       "      <td>4733</td>\n",
       "      <td>1977</td>\n",
       "      <td>224</td>\n",
       "      <td>1513</td>\n",
       "      <td>1019</td>\n",
       "    </tr>\n",
       "    <tr>\n",
       "      <th>ZA105</th>\n",
       "      <td>ZA</td>\n",
       "      <td>GUADELOUPE</td>\n",
       "      <td>105</td>\n",
       "      <td>Basse-Terre</td>\n",
       "      <td>9142</td>\n",
       "      <td>3937</td>\n",
       "      <td>456</td>\n",
       "      <td>2847</td>\n",
       "      <td>1902</td>\n",
       "    </tr>\n",
       "    <tr>\n",
       "      <th>...</th>\n",
       "      <td>...</td>\n",
       "      <td>...</td>\n",
       "      <td>...</td>\n",
       "      <td>...</td>\n",
       "      <td>...</td>\n",
       "      <td>...</td>\n",
       "      <td>...</td>\n",
       "      <td>...</td>\n",
       "      <td>...</td>\n",
       "    </tr>\n",
       "    <tr>\n",
       "      <th>ZZ007</th>\n",
       "      <td>ZZ</td>\n",
       "      <td>FRANCAIS DE L'ETRANGER</td>\n",
       "      <td>007</td>\n",
       "      <td>Europe centrale</td>\n",
       "      <td>89643</td>\n",
       "      <td>54981</td>\n",
       "      <td>318</td>\n",
       "      <td>17055</td>\n",
       "      <td>17289</td>\n",
       "    </tr>\n",
       "    <tr>\n",
       "      <th>ZZ008</th>\n",
       "      <td>ZZ</td>\n",
       "      <td>FRANCAIS DE L'ETRANGER</td>\n",
       "      <td>008</td>\n",
       "      <td>Europe du Sud, Turquie, Israël</td>\n",
       "      <td>109763</td>\n",
       "      <td>84466</td>\n",
       "      <td>292</td>\n",
       "      <td>9299</td>\n",
       "      <td>15706</td>\n",
       "    </tr>\n",
       "    <tr>\n",
       "      <th>ZZ009</th>\n",
       "      <td>ZZ</td>\n",
       "      <td>FRANCAIS DE L'ETRANGER</td>\n",
       "      <td>009</td>\n",
       "      <td>Afrique Nord-Ouest</td>\n",
       "      <td>98997</td>\n",
       "      <td>59887</td>\n",
       "      <td>321</td>\n",
       "      <td>22116</td>\n",
       "      <td>16673</td>\n",
       "    </tr>\n",
       "    <tr>\n",
       "      <th>ZZ010</th>\n",
       "      <td>ZZ</td>\n",
       "      <td>FRANCAIS DE L'ETRANGER</td>\n",
       "      <td>010</td>\n",
       "      <td>Afrique Centre, Sud et Est</td>\n",
       "      <td>89859</td>\n",
       "      <td>46782</td>\n",
       "      <td>566</td>\n",
       "      <td>17008</td>\n",
       "      <td>25503</td>\n",
       "    </tr>\n",
       "    <tr>\n",
       "      <th>ZZ011</th>\n",
       "      <td>ZZ</td>\n",
       "      <td>FRANCAIS DE L'ETRANGER</td>\n",
       "      <td>011</td>\n",
       "      <td>Europe de l'est, Asie, Océanie</td>\n",
       "      <td>80061</td>\n",
       "      <td>42911</td>\n",
       "      <td>488</td>\n",
       "      <td>13975</td>\n",
       "      <td>22687</td>\n",
       "    </tr>\n",
       "  </tbody>\n",
       "</table>\n",
       "<p>226 rows × 9 columns</p>\n",
       "</div>"
      ],
      "text/plain": [
       "      Code du département  Libellé du département Code de la commune  \\\n",
       "insee                                                                  \n",
       "ZA101                  ZA              GUADELOUPE                101   \n",
       "ZA102                  ZA              GUADELOUPE                102   \n",
       "ZA103                  ZA              GUADELOUPE                103   \n",
       "ZA104                  ZA              GUADELOUPE                104   \n",
       "ZA105                  ZA              GUADELOUPE                105   \n",
       "...                   ...                     ...                ...   \n",
       "ZZ007                  ZZ  FRANCAIS DE L'ETRANGER                007   \n",
       "ZZ008                  ZZ  FRANCAIS DE L'ETRANGER                008   \n",
       "ZZ009                  ZZ  FRANCAIS DE L'ETRANGER                009   \n",
       "ZZ010                  ZZ  FRANCAIS DE L'ETRANGER                010   \n",
       "ZZ011                  ZZ  FRANCAIS DE L'ETRANGER                011   \n",
       "\n",
       "                Libellé de la commune  Inscrits  Abstentions  Blancs et nuls  \\\n",
       "insee                                                                          \n",
       "ZA101                      Les Abymes     34547        15393            1603   \n",
       "ZA102                   Anse-Bertrand      4832         2890              93   \n",
       "ZA103                    Baie-Mahault     19599         7881             825   \n",
       "ZA104                         Baillif      4733         1977             224   \n",
       "ZA105                     Basse-Terre      9142         3937             456   \n",
       "...                               ...       ...          ...             ...   \n",
       "ZZ007                 Europe centrale     89643        54981             318   \n",
       "ZZ008  Europe du Sud, Turquie, Israël    109763        84466             292   \n",
       "ZZ009              Afrique Nord-Ouest     98997        59887             321   \n",
       "ZZ010      Afrique Centre, Sud et Est     89859        46782             566   \n",
       "ZZ011  Europe de l'est, Asie, Océanie     80061        42911             488   \n",
       "\n",
       "       Choix A  Choix B  \n",
       "insee                    \n",
       "ZA101    12100     5451  \n",
       "ZA102     1225      624  \n",
       "ZA103     6849     4044  \n",
       "ZA104     1513     1019  \n",
       "ZA105     2847     1902  \n",
       "...        ...      ...  \n",
       "ZZ007    17055    17289  \n",
       "ZZ008     9299    15706  \n",
       "ZZ009    22116    16673  \n",
       "ZZ010    17008    25503  \n",
       "ZZ011    13975    22687  \n",
       "\n",
       "[226 rows x 9 columns]"
      ]
     },
     "execution_count": 11,
     "metadata": {},
     "output_type": "execute_result"
    }
   ],
   "source": [
    "results[(results['Code du département'].str.contains('Z'))]"
   ]
  },
  {
   "cell_type": "markdown",
   "id": "940d04b2",
   "metadata": {},
   "source": [
    "### Conclusion #1 : we can combine departemental codes & either town code or name to get a unique ID\n",
    "\n",
    "To keep in mind when I'll match with other databases"
   ]
  },
  {
   "cell_type": "markdown",
   "id": "86994f60",
   "metadata": {},
   "source": [
    "# Now let's get into the scores\n",
    "\n",
    "* First the obvious one : which proposition won at the national level, how much abstention there was\n",
    "* Second : Distribution of % for each proposition per town, then correlation with number of voters in each town\n",
    "\n",
    "Will refine this later notebooks"
   ]
  },
  {
   "cell_type": "code",
   "execution_count": 12,
   "id": "0e785896",
   "metadata": {},
   "outputs": [
    {
     "name": "stdout",
     "output_type": "stream",
     "text": [
      "Inscrits          46028542\n",
      "Abstentions        9444143\n",
      "Blancs et nuls      701190\n",
      "Choix A           15699580\n",
      "Choix B           20183629\n",
      "dtype: int64\n"
     ]
    }
   ],
   "source": [
    "national=results[ [\"Inscrits\",\"Abstentions\",\"Blancs et nuls\",\"Choix A\",\"Choix B\"] ].sum()\n",
    "print(national)"
   ]
  },
  {
   "cell_type": "markdown",
   "id": "a9fc5c89",
   "metadata": {},
   "source": [
    "We can already see that B won, let's make it clearer."
   ]
  },
  {
   "cell_type": "code",
   "execution_count": 13,
   "id": "89140bda",
   "metadata": {},
   "outputs": [],
   "source": [
    "national[\"Abstention Officielle\"] = national[\"Abstentions\"]+national[\"Blancs et nuls\"]\n",
    "national = 100*national/national[\"Inscrits\"]"
   ]
  },
  {
   "cell_type": "code",
   "execution_count": 14,
   "id": "184d81fe",
   "metadata": {},
   "outputs": [
    {
     "data": {
      "text/plain": [
       "Inscrits                 100.000000\n",
       "Abstentions               20.518015\n",
       "Blancs et nuls             1.523381\n",
       "Choix A                   34.108358\n",
       "Choix B                   43.850246\n",
       "Abstention Officielle     22.041396\n",
       "dtype: float64"
      ]
     },
     "execution_count": 14,
     "metadata": {},
     "output_type": "execute_result"
    }
   ],
   "source": [
    "national"
   ]
  },
  {
   "cell_type": "code",
   "execution_count": 15,
   "id": "087e2136",
   "metadata": {},
   "outputs": [
    {
     "data": {
      "text/plain": [
       "[Text(0, 0.5, '% of registered voters'),\n",
       " Text(0.5, 0, 'Official voting categories')]"
      ]
     },
     "execution_count": 15,
     "metadata": {},
     "output_type": "execute_result"
    },
    {
     "data": {
      "image/png": "[encoded data removed]",
      "text/plain": [
       "<Figure size 432x288 with 1 Axes>"
      ]
     },
     "metadata": {
      "needs_background": "light"
     },
     "output_type": "display_data"
    }
   ],
   "source": [
    "import seaborn as sns\n",
    "x=[\"Abstention Officielle\",\"Choix A\",\"Choix B\"]\n",
    "y=[national[i] for i in x]\n",
    "ax=sns.barplot(x=x,y=y)\n",
    "ax.set(ylabel=\"% of registered voters\",xlabel=\"Official voting categories\")"
   ]
  },
  {
   "cell_type": "markdown",
   "id": "547a2b93",
   "metadata": {},
   "source": [
    "### Conclusion #2 : as we expected, choice B won. \n",
    "\n",
    "Now let see how this is distributed wrt town size (here, I use nb. of registered voters as proxy)"
   ]
  },
  {
   "cell_type": "code",
   "execution_count": 16,
   "id": "6bc55b0a",
   "metadata": {},
   "outputs": [
    {
     "data": {
      "text/html": [
       "<div>\n",
       "<style scoped>\n",
       "    .dataframe tbody tr th:only-of-type {\n",
       "        vertical-align: middle;\n",
       "    }\n",
       "\n",
       "    .dataframe tbody tr th {\n",
       "        vertical-align: top;\n",
       "    }\n",
       "\n",
       "    .dataframe thead th {\n",
       "        text-align: right;\n",
       "    }\n",
       "</style>\n",
       "<table border=\"1\" class=\"dataframe\">\n",
       "  <thead>\n",
       "    <tr style=\"text-align: right;\">\n",
       "      <th></th>\n",
       "      <th>Code du département</th>\n",
       "      <th>Libellé du département</th>\n",
       "      <th>Code de la commune</th>\n",
       "      <th>Libellé de la commune</th>\n",
       "      <th>Inscrits</th>\n",
       "      <th>Abstentions</th>\n",
       "      <th>Blancs et nuls</th>\n",
       "      <th>Choix A</th>\n",
       "      <th>Choix B</th>\n",
       "      <th>Abstention Officielle</th>\n",
       "      <th>Fraction Abstention Officielle</th>\n",
       "      <th>Fraction Choix A</th>\n",
       "      <th>Fraction Choix B</th>\n",
       "    </tr>\n",
       "    <tr>\n",
       "      <th>insee</th>\n",
       "      <th></th>\n",
       "      <th></th>\n",
       "      <th></th>\n",
       "      <th></th>\n",
       "      <th></th>\n",
       "      <th></th>\n",
       "      <th></th>\n",
       "      <th></th>\n",
       "      <th></th>\n",
       "      <th></th>\n",
       "      <th></th>\n",
       "      <th></th>\n",
       "      <th></th>\n",
       "    </tr>\n",
       "  </thead>\n",
       "  <tbody>\n",
       "    <tr>\n",
       "      <th>01001</th>\n",
       "      <td>01</td>\n",
       "      <td>AIN</td>\n",
       "      <td>001</td>\n",
       "      <td>L'Abergement-Clémenciat</td>\n",
       "      <td>592</td>\n",
       "      <td>84</td>\n",
       "      <td>9</td>\n",
       "      <td>154</td>\n",
       "      <td>345</td>\n",
       "      <td>93</td>\n",
       "      <td>15.709459</td>\n",
       "      <td>26.013514</td>\n",
       "      <td>58.277027</td>\n",
       "    </tr>\n",
       "    <tr>\n",
       "      <th>01002</th>\n",
       "      <td>01</td>\n",
       "      <td>AIN</td>\n",
       "      <td>002</td>\n",
       "      <td>L'Abergement-de-Varey</td>\n",
       "      <td>215</td>\n",
       "      <td>36</td>\n",
       "      <td>5</td>\n",
       "      <td>66</td>\n",
       "      <td>108</td>\n",
       "      <td>41</td>\n",
       "      <td>19.069767</td>\n",
       "      <td>30.697674</td>\n",
       "      <td>50.232558</td>\n",
       "    </tr>\n",
       "    <tr>\n",
       "      <th>01004</th>\n",
       "      <td>01</td>\n",
       "      <td>AIN</td>\n",
       "      <td>004</td>\n",
       "      <td>Ambérieu-en-Bugey</td>\n",
       "      <td>8205</td>\n",
       "      <td>1698</td>\n",
       "      <td>126</td>\n",
       "      <td>2717</td>\n",
       "      <td>3664</td>\n",
       "      <td>1824</td>\n",
       "      <td>22.230347</td>\n",
       "      <td>33.113955</td>\n",
       "      <td>44.655698</td>\n",
       "    </tr>\n",
       "    <tr>\n",
       "      <th>01005</th>\n",
       "      <td>01</td>\n",
       "      <td>AIN</td>\n",
       "      <td>005</td>\n",
       "      <td>Ambérieux-en-Dombes</td>\n",
       "      <td>1152</td>\n",
       "      <td>170</td>\n",
       "      <td>18</td>\n",
       "      <td>280</td>\n",
       "      <td>684</td>\n",
       "      <td>188</td>\n",
       "      <td>16.319444</td>\n",
       "      <td>24.305556</td>\n",
       "      <td>59.375000</td>\n",
       "    </tr>\n",
       "    <tr>\n",
       "      <th>01006</th>\n",
       "      <td>01</td>\n",
       "      <td>AIN</td>\n",
       "      <td>006</td>\n",
       "      <td>Ambléon</td>\n",
       "      <td>105</td>\n",
       "      <td>17</td>\n",
       "      <td>1</td>\n",
       "      <td>35</td>\n",
       "      <td>52</td>\n",
       "      <td>18</td>\n",
       "      <td>17.142857</td>\n",
       "      <td>33.333333</td>\n",
       "      <td>49.523810</td>\n",
       "    </tr>\n",
       "    <tr>\n",
       "      <th>...</th>\n",
       "      <td>...</td>\n",
       "      <td>...</td>\n",
       "      <td>...</td>\n",
       "      <td>...</td>\n",
       "      <td>...</td>\n",
       "      <td>...</td>\n",
       "      <td>...</td>\n",
       "      <td>...</td>\n",
       "      <td>...</td>\n",
       "      <td>...</td>\n",
       "      <td>...</td>\n",
       "      <td>...</td>\n",
       "      <td>...</td>\n",
       "    </tr>\n",
       "    <tr>\n",
       "      <th>ZZ007</th>\n",
       "      <td>ZZ</td>\n",
       "      <td>FRANCAIS DE L'ETRANGER</td>\n",
       "      <td>007</td>\n",
       "      <td>Europe centrale</td>\n",
       "      <td>89643</td>\n",
       "      <td>54981</td>\n",
       "      <td>318</td>\n",
       "      <td>17055</td>\n",
       "      <td>17289</td>\n",
       "      <td>55299</td>\n",
       "      <td>61.688029</td>\n",
       "      <td>19.025468</td>\n",
       "      <td>19.286503</td>\n",
       "    </tr>\n",
       "    <tr>\n",
       "      <th>ZZ008</th>\n",
       "      <td>ZZ</td>\n",
       "      <td>FRANCAIS DE L'ETRANGER</td>\n",
       "      <td>008</td>\n",
       "      <td>Europe du Sud, Turquie, Israël</td>\n",
       "      <td>109763</td>\n",
       "      <td>84466</td>\n",
       "      <td>292</td>\n",
       "      <td>9299</td>\n",
       "      <td>15706</td>\n",
       "      <td>84758</td>\n",
       "      <td>77.219099</td>\n",
       "      <td>8.471889</td>\n",
       "      <td>14.309011</td>\n",
       "    </tr>\n",
       "    <tr>\n",
       "      <th>ZZ009</th>\n",
       "      <td>ZZ</td>\n",
       "      <td>FRANCAIS DE L'ETRANGER</td>\n",
       "      <td>009</td>\n",
       "      <td>Afrique Nord-Ouest</td>\n",
       "      <td>98997</td>\n",
       "      <td>59887</td>\n",
       "      <td>321</td>\n",
       "      <td>22116</td>\n",
       "      <td>16673</td>\n",
       "      <td>60208</td>\n",
       "      <td>60.818005</td>\n",
       "      <td>22.340071</td>\n",
       "      <td>16.841925</td>\n",
       "    </tr>\n",
       "    <tr>\n",
       "      <th>ZZ010</th>\n",
       "      <td>ZZ</td>\n",
       "      <td>FRANCAIS DE L'ETRANGER</td>\n",
       "      <td>010</td>\n",
       "      <td>Afrique Centre, Sud et Est</td>\n",
       "      <td>89859</td>\n",
       "      <td>46782</td>\n",
       "      <td>566</td>\n",
       "      <td>17008</td>\n",
       "      <td>25503</td>\n",
       "      <td>47348</td>\n",
       "      <td>52.691439</td>\n",
       "      <td>18.927431</td>\n",
       "      <td>28.381130</td>\n",
       "    </tr>\n",
       "    <tr>\n",
       "      <th>ZZ011</th>\n",
       "      <td>ZZ</td>\n",
       "      <td>FRANCAIS DE L'ETRANGER</td>\n",
       "      <td>011</td>\n",
       "      <td>Europe de l'est, Asie, Océanie</td>\n",
       "      <td>80061</td>\n",
       "      <td>42911</td>\n",
       "      <td>488</td>\n",
       "      <td>13975</td>\n",
       "      <td>22687</td>\n",
       "      <td>43399</td>\n",
       "      <td>54.207417</td>\n",
       "      <td>17.455440</td>\n",
       "      <td>28.337143</td>\n",
       "    </tr>\n",
       "  </tbody>\n",
       "</table>\n",
       "<p>36791 rows × 13 columns</p>\n",
       "</div>"
      ],
      "text/plain": [
       "      Code du département  Libellé du département Code de la commune  \\\n",
       "insee                                                                  \n",
       "01001                  01                     AIN                001   \n",
       "01002                  01                     AIN                002   \n",
       "01004                  01                     AIN                004   \n",
       "01005                  01                     AIN                005   \n",
       "01006                  01                     AIN                006   \n",
       "...                   ...                     ...                ...   \n",
       "ZZ007                  ZZ  FRANCAIS DE L'ETRANGER                007   \n",
       "ZZ008                  ZZ  FRANCAIS DE L'ETRANGER                008   \n",
       "ZZ009                  ZZ  FRANCAIS DE L'ETRANGER                009   \n",
       "ZZ010                  ZZ  FRANCAIS DE L'ETRANGER                010   \n",
       "ZZ011                  ZZ  FRANCAIS DE L'ETRANGER                011   \n",
       "\n",
       "                Libellé de la commune  Inscrits  Abstentions  Blancs et nuls  \\\n",
       "insee                                                                          \n",
       "01001         L'Abergement-Clémenciat       592           84               9   \n",
       "01002           L'Abergement-de-Varey       215           36               5   \n",
       "01004               Ambérieu-en-Bugey      8205         1698             126   \n",
       "01005             Ambérieux-en-Dombes      1152          170              18   \n",
       "01006                         Ambléon       105           17               1   \n",
       "...                               ...       ...          ...             ...   \n",
       "ZZ007                 Europe centrale     89643        54981             318   \n",
       "ZZ008  Europe du Sud, Turquie, Israël    109763        84466             292   \n",
       "ZZ009              Afrique Nord-Ouest     98997        59887             321   \n",
       "ZZ010      Afrique Centre, Sud et Est     89859        46782             566   \n",
       "ZZ011  Europe de l'est, Asie, Océanie     80061        42911             488   \n",
       "\n",
       "       Choix A  Choix B  Abstention Officielle  \\\n",
       "insee                                            \n",
       "01001      154      345                     93   \n",
       "01002       66      108                     41   \n",
       "01004     2717     3664                   1824   \n",
       "01005      280      684                    188   \n",
       "01006       35       52                     18   \n",
       "...        ...      ...                    ...   \n",
       "ZZ007    17055    17289                  55299   \n",
       "ZZ008     9299    15706                  84758   \n",
       "ZZ009    22116    16673                  60208   \n",
       "ZZ010    17008    25503                  47348   \n",
       "ZZ011    13975    22687                  43399   \n",
       "\n",
       "       Fraction Abstention Officielle  Fraction Choix A  Fraction Choix B  \n",
       "insee                                                                      \n",
       "01001                       15.709459         26.013514         58.277027  \n",
       "01002                       19.069767         30.697674         50.232558  \n",
       "01004                       22.230347         33.113955         44.655698  \n",
       "01005                       16.319444         24.305556         59.375000  \n",
       "01006                       17.142857         33.333333         49.523810  \n",
       "...                               ...               ...               ...  \n",
       "ZZ007                       61.688029         19.025468         19.286503  \n",
       "ZZ008                       77.219099          8.471889         14.309011  \n",
       "ZZ009                       60.818005         22.340071         16.841925  \n",
       "ZZ010                       52.691439         18.927431         28.381130  \n",
       "ZZ011                       54.207417         17.455440         28.337143  \n",
       "\n",
       "[36791 rows x 13 columns]"
      ]
     },
     "execution_count": 16,
     "metadata": {},
     "output_type": "execute_result"
    }
   ],
   "source": [
    "results[\"Abstention Officielle\"] = results[\"Abstentions\"]+results[\"Blancs et nuls\"]\n",
    "\n",
    "for id in [\"Abstention Officielle\",\"Choix A\",\"Choix B\"]:\n",
    "    results[f\"Fraction {id}\"] = 100*results[id]/results[\"Inscrits\"]\n",
    "    \n",
    "results"
   ]
  },
  {
   "cell_type": "code",
   "execution_count": 17,
   "id": "f90f034e",
   "metadata": {},
   "outputs": [
    {
     "data": {
      "image/png": "[encoded data removed]",
      "text/plain": [
       "<Figure size 432x288 with 1 Axes>"
      ]
     },
     "metadata": {
      "needs_background": "light"
     },
     "output_type": "display_data"
    }
   ],
   "source": [
    "import matplotlib.pyplot as plt\n",
    "\n",
    "ax=sns.histplot(data=results,x=\"Inscrits\")\n",
    "ax.set(xlim=(0,20000))\n",
    "ax.set(yscale='log')\n",
    "plt.show()"
   ]
  },
  {
   "cell_type": "code",
   "execution_count": 18,
   "id": "efcbd5b8",
   "metadata": {},
   "outputs": [
    {
     "data": {
      "image/png": "[encoded data removed]",
      "text/plain": [
       "<Figure size 432x288 with 1 Axes>"
      ]
     },
     "metadata": {
      "needs_background": "light"
     },
     "output_type": "display_data"
    },
    {
     "data": {
      "image/png": "[encoded data removed]",
      "text/plain": [
       "<Figure size 432x288 with 1 Axes>"
      ]
     },
     "metadata": {
      "needs_background": "light"
     },
     "output_type": "display_data"
    },
    {
     "data": {
      "image/png": "[encoded data removed]",
      "text/plain": [
       "<Figure size 432x288 with 1 Axes>"
      ]
     },
     "metadata": {
      "needs_background": "light"
     },
     "output_type": "display_data"
    }
   ],
   "source": [
    "for id in [\"Fraction Abstention Officielle\",\"Fraction Choix A\",\"Fraction Choix B\"]:\n",
    "    ax=sns.histplot(data=results,x=id,kde=True)\n",
    "    plt.show()"
   ]
  },
  {
   "cell_type": "code",
   "execution_count": 19,
   "id": "e80632c5",
   "metadata": {},
   "outputs": [
    {
     "data": {
      "image/png": "[encoded data removed]",
      "text/plain": [
       "<Figure size 432x432 with 1 Axes>"
      ]
     },
     "metadata": {
      "needs_background": "light"
     },
     "output_type": "display_data"
    },
    {
     "data": {
      "image/png": "[encoded data removed]",
      "text/plain": [
       "<Figure size 432x432 with 1 Axes>"
      ]
     },
     "metadata": {
      "needs_background": "light"
     },
     "output_type": "display_data"
    },
    {
     "data": {
      "image/png": "[encoded data removed]",
      "text/plain": [
       "<Figure size 432x432 with 1 Axes>"
      ]
     },
     "metadata": {
      "needs_background": "light"
     },
     "output_type": "display_data"
    }
   ],
   "source": [
    "for id in [\"Fraction Abstention Officielle\",\"Fraction Choix A\",\"Fraction Choix B\"]:\n",
    "    fig, ax = plt.subplots(figsize=(6, 6))\n",
    "    sns.kdeplot(\n",
    "        data=results,\n",
    "        x=id,\n",
    "        y=\"Inscrits\",\n",
    "        levels=5,\n",
    "        fill=True,\n",
    "        alpha=0.6,\n",
    "        cut=2,\n",
    "        ax=ax,\n",
    "    )\n",
    "    ax.set(ylim=(0,20000))\n",
    "    ax.set(xlim=(5,75))\n",
    "    plt.show()"
   ]
  },
  {
   "cell_type": "markdown",
   "id": "1a49f572",
   "metadata": {},
   "source": [
    "# A few additional checks related to arrondissements & DomToms"
   ]
  },
  {
   "cell_type": "code",
   "execution_count": 20,
   "id": "b4e6eb34",
   "metadata": {},
   "outputs": [
    {
     "data": {
      "text/html": [
       "<div>\n",
       "<style scoped>\n",
       "    .dataframe tbody tr th:only-of-type {\n",
       "        vertical-align: middle;\n",
       "    }\n",
       "\n",
       "    .dataframe tbody tr th {\n",
       "        vertical-align: top;\n",
       "    }\n",
       "\n",
       "    .dataframe thead th {\n",
       "        text-align: right;\n",
       "    }\n",
       "</style>\n",
       "<table border=\"1\" class=\"dataframe\">\n",
       "  <thead>\n",
       "    <tr style=\"text-align: right;\">\n",
       "      <th></th>\n",
       "      <th>Code du département</th>\n",
       "      <th>Libellé du département</th>\n",
       "      <th>Code de la commune</th>\n",
       "      <th>Libellé de la commune</th>\n",
       "      <th>Inscrits</th>\n",
       "      <th>Abstentions</th>\n",
       "      <th>Blancs et nuls</th>\n",
       "      <th>Choix A</th>\n",
       "      <th>Choix B</th>\n",
       "      <th>Abstention Officielle</th>\n",
       "      <th>Fraction Abstention Officielle</th>\n",
       "      <th>Fraction Choix A</th>\n",
       "      <th>Fraction Choix B</th>\n",
       "    </tr>\n",
       "    <tr>\n",
       "      <th>insee</th>\n",
       "      <th></th>\n",
       "      <th></th>\n",
       "      <th></th>\n",
       "      <th></th>\n",
       "      <th></th>\n",
       "      <th></th>\n",
       "      <th></th>\n",
       "      <th></th>\n",
       "      <th></th>\n",
       "      <th></th>\n",
       "      <th></th>\n",
       "      <th></th>\n",
       "      <th></th>\n",
       "    </tr>\n",
       "  </thead>\n",
       "  <tbody>\n",
       "    <tr>\n",
       "      <th>13055</th>\n",
       "      <td>13</td>\n",
       "      <td>BOUCHES DU RHONE</td>\n",
       "      <td>055</td>\n",
       "      <td>Marseille</td>\n",
       "      <td>484206</td>\n",
       "      <td>105301</td>\n",
       "      <td>5201</td>\n",
       "      <td>168317</td>\n",
       "      <td>205387</td>\n",
       "      <td>110502</td>\n",
       "      <td>22.821279</td>\n",
       "      <td>34.761445</td>\n",
       "      <td>42.417277</td>\n",
       "    </tr>\n",
       "  </tbody>\n",
       "</table>\n",
       "</div>"
      ],
      "text/plain": [
       "      Code du département Libellé du département Code de la commune  \\\n",
       "insee                                                                 \n",
       "13055                  13       BOUCHES DU RHONE                055   \n",
       "\n",
       "      Libellé de la commune  Inscrits  Abstentions  Blancs et nuls  Choix A  \\\n",
       "insee                                                                         \n",
       "13055             Marseille    484206       105301            5201   168317   \n",
       "\n",
       "       Choix B  Abstention Officielle  Fraction Abstention Officielle  \\\n",
       "insee                                                                   \n",
       "13055   205387                 110502                       22.821279   \n",
       "\n",
       "       Fraction Choix A  Fraction Choix B  \n",
       "insee                                      \n",
       "13055         34.761445         42.417277  "
      ]
     },
     "execution_count": 20,
     "metadata": {},
     "output_type": "execute_result"
    }
   ],
   "source": [
    "results[results['Libellé de la commune'] == 'Marseille']"
   ]
  },
  {
   "cell_type": "code",
   "execution_count": 21,
   "id": "ac207483",
   "metadata": {},
   "outputs": [
    {
     "data": {
      "text/plain": [
       "array(['GUADELOUPE', 'MARTINIQUE', 'GUYANE', 'LA REUNION', 'MAYOTTE',\n",
       "       'NOUVELLE CALEDONIE', 'POLYNESIE FRANCAISE',\n",
       "       'SAINT PIERRE ET MIQUELON', 'WALLIS-ET-FUTUNA',\n",
       "       'SAINT-MARTIN/SAINT-BARTHELEMY', \"FRANCAIS DE L'ETRANGER\"],\n",
       "      dtype=object)"
      ]
     },
     "execution_count": 21,
     "metadata": {},
     "output_type": "execute_result"
    }
   ],
   "source": [
    "results[results['Code du département'].str.contains('Z')]['Libellé du département'].unique()"
   ]
  },
  {
   "cell_type": "code",
   "execution_count": 22,
   "id": "567dfa9c",
   "metadata": {},
   "outputs": [
    {
     "data": {
      "text/plain": [
       "array(['ZA', 'ZB', 'ZC', 'ZD', 'ZM', 'ZN', 'ZP', 'ZS', 'ZW', 'ZX', 'ZZ'],\n",
       "      dtype=object)"
      ]
     },
     "execution_count": 22,
     "metadata": {},
     "output_type": "execute_result"
    }
   ],
   "source": [
    "results[results['Code du département'].str.contains('Z')]['Code du département'].unique()"
   ]
  },
  {
   "cell_type": "markdown",
   "id": "9140fd76",
   "metadata": {},
   "source": [
    "# Conclusions from this notebook :\n",
    "\n",
    "* Combining a departement & city code will give an unique ID\n",
    "* Choice B won the election (44% of registered voters)\n",
    "* No obvious correlation wrt number of registered voters (~ town size)\n",
    "\n",
    "After a brief look at the other datasets, the unique ID I mentionned is the INSEE codes : 5 digits, with first 2 = departement, last 3 = city code."
   ]
  },
  {
   "cell_type": "code",
   "execution_count": null,
   "id": "e73e9531",
   "metadata": {},
   "outputs": [],
   "source": []
  }
 ],
 "metadata": {
  "kernelspec": {
   "display_name": "Python 3 (ipykernel)",
   "language": "python",
   "name": "python3"
  },
  "language_info": {
   "codemirror_mode": {
    "name": "ipython",
    "version": 3
   },
   "file_extension": ".py",
   "mimetype": "text/x-python",
   "name": "python",
   "nbconvert_exporter": "python",
   "pygments_lexer": "ipython3",
   "version": "3.8.10"
  }
 },
 "nbformat": 4,
 "nbformat_minor": 5
}
