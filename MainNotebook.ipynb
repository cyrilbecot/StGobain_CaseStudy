{
 "cells": [
  {
   "cell_type": "markdown",
   "id": "e89b12fd",
   "metadata": {},
   "source": [
    "### First let's import everything we will need :"
   ]
  },
  {
   "cell_type": "code",
   "execution_count": 1,
   "id": "2fc2a82e",
   "metadata": {},
   "outputs": [],
   "source": [
    "# My personnal helper classes to get the data :\n",
    "from data_reader.data_reader import DataReader\n",
    "from data_reader.helpers import locations, mean_age\n",
    "\n",
    "# A few standard libraries :\n",
    "import seaborn as sns\n",
    "import pandas as pd\n",
    "import geopandas as gpd\n",
    "import matplotlib\n",
    "import matplotlib.pyplot as plt"
   ]
  },
  {
   "cell_type": "markdown",
   "id": "62fba0c6",
   "metadata": {},
   "source": [
    "### Now import all datasets :"
   ]
  },
  {
   "cell_type": "code",
   "execution_count": 2,
   "id": "f5ec6ead",
   "metadata": {},
   "outputs": [],
   "source": [
    "referendum = DataReader(\n",
    "    path=locations(\"referendum\"),\n",
    "    insee_code=('Code du département','Code de la commune'),\n",
    "    drop_domtom=False\n",
    ").content()"
   ]
  },
  {
   "cell_type": "code",
   "execution_count": 3,
   "id": "c640e4f1",
   "metadata": {},
   "outputs": [],
   "source": [
    "diplomas=DataReader(\n",
    "    path=locations(\"diplomes\"), \n",
    "    sheet_name='COM_2012',\n",
    "    skiprows=16, \n",
    "    insee_code=('dr','cr'),\n",
    "    drop_domtom=True,\n",
    "    rm_nan=True, #Values sometime not filled due to (dis)appearing towns through the survey\n",
    "    arrondissement_handling=\"Merge\"\n",
    ").content()"
   ]
  },
  {
   "cell_type": "code",
   "execution_count": 4,
   "id": "36c136a9",
   "metadata": {},
   "outputs": [],
   "source": [
    "geo_data=DataReader(\n",
    "    path=locations(\"geodata\"),\n",
    "    drop_domtom=True,\n",
    "    insee_code=('insee',)\n",
    ").content()"
   ]
  },
  {
   "cell_type": "code",
   "execution_count": 5,
   "id": "90136e97",
   "metadata": {},
   "outputs": [],
   "source": [
    "recensement=DataReader(\n",
    "    path=locations(\"recensement\"), \n",
    "    sheet_name='COM_2013',\n",
    "    drop_domtom=True,\n",
    "    insee_code=('CODGEO',),\n",
    "    skiprows=5 # Row nb. 6 will be the columns names\n",
    ").content()"
   ]
  },
  {
   "cell_type": "code",
   "execution_count": 6,
   "id": "f4dd5947",
   "metadata": {},
   "outputs": [],
   "source": [
    "revenus=DataReader(\n",
    "    path=locations(\"revenus\"), \n",
    "    sheet_name='COM',\n",
    "    skiprows=5, # Row nb. 6 will be the columns names\n",
    "    insee_code=('CODGEO',),\n",
    "    drop_domtom=True,\n",
    "    arrondissement_handling=\"Delete\"\n",
    ").content()"
   ]
  },
  {
   "cell_type": "code",
   "execution_count": null,
   "id": "1245fec9",
   "metadata": {},
   "outputs": [],
   "source": [
    "helper_df=DataReader(\n",
    "    path=locations('diploma_helper'),\n",
    "    sheet_name='Sheet1',\n",
    "    sep=',',\n",
    "    force_index='Unnamed: 0'\n",
    ").content()"
   ]
  }
 ],
 "metadata": {
  "kernelspec": {
   "display_name": "Python 3 (ipykernel)",
   "language": "python",
   "name": "python3"
  },
  "language_info": {
   "codemirror_mode": {
    "name": "ipython",
    "version": 3
   },
   "file_extension": ".py",
   "mimetype": "text/x-python",
   "name": "python",
   "nbconvert_exporter": "python",
   "pygments_lexer": "ipython3",
   "version": "3.8.10"
  }
 },
 "nbformat": 4,
 "nbformat_minor": 5
}
